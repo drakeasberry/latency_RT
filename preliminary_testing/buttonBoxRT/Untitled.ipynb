{
 "cells": [
  {
   "cell_type": "code",
   "execution_count": 9,
   "metadata": {},
   "outputs": [],
   "source": [
    "import pandas as pd\n",
    "import glob\n",
    "import csv\n",
    "import os"
   ]
  },
  {
   "cell_type": "code",
   "execution_count": 10,
   "metadata": {},
   "outputs": [
    {
     "name": "stdout",
     "output_type": "stream",
     "text": [
      "AUTO_Adafruit_Feather_32u4_1555051850ms_1.csv\n",
      "AUTO_Adafruit_Feather_32u4_1555051882ms_1.csv\n",
      "AUTO_Adafruit_Feather_32u4_1555051771ms_1.csv\n",
      "AUTO_Adafruit_Feather_32u4_1555051867ms_1.csv\n",
      "AUTO_Adafruit_Feather_32u4_1555051806ms_1.csv\n",
      "AUTO_Adafruit_Feather_32u4_1555051749ms_1.csv\n",
      "AUTO_Adafruit_Feather_32u4_1555051910ms_1.csv\n",
      "AUTO_Adafruit_Feather_32u4_1555051192ms_1.csv\n",
      "AUTO_Adafruit_Feather_32u4_1555051791ms_1.csv\n",
      "AUTO_Adafruit_Feather_32u4_1555051896ms_1.csv\n"
     ]
    }
   ],
   "source": [
    "path = '*.csv'\n",
    "for fname in glob.glob(path):\n",
    "    print(fname)"
   ]
  },
  {
   "cell_type": "code",
   "execution_count": 12,
   "metadata": {},
   "outputs": [
    {
     "name": "stdout",
     "output_type": "stream",
     "text": [
      "['AUTO_Adafruit_Feather_32u4_1555051850ms_1.csv', 'AUTO_Adafruit_Feather_32u4_1555051882ms_1.csv', 'AUTO_Adafruit_Feather_32u4_1555051771ms_1.csv', 'AUTO_Adafruit_Feather_32u4_1555051867ms_1.csv', 'AUTO_Adafruit_Feather_32u4_1555051806ms_1.csv', 'AUTO_Adafruit_Feather_32u4_1555051749ms_1.csv', 'AUTO_Adafruit_Feather_32u4_1555051910ms_1.csv', 'AUTO_Adafruit_Feather_32u4_1555051192ms_1.csv', 'AUTO_Adafruit_Feather_32u4_1555051791ms_1.csv', 'AUTO_Adafruit_Feather_32u4_1555051896ms_1.csv']\n",
      "                            #Mode:;3\n",
      "0     #Device:;Adafruit_Feather_32u4\n",
      "1                         #Button:;5\n",
      "2                     #minDelay:;100\n",
      "3                   #maxDelay:;10000\n",
      "4                  #iterations:;1000\n",
      "5          counter;latency;delayTime\n",
      "6                           0;8;4987\n",
      "7                           1;7;1270\n",
      "8                          2;11;7687\n",
      "9                          3;44;5257\n",
      "10                         4;10;6715\n",
      "11                        5;900;3439\n",
      "12                         6;12;4573\n",
      "13                         7;12;5527\n",
      "14                         8;13;7543\n",
      "15                         9;12;3673\n",
      "16                        10;12;4321\n",
      "17                        11;17;8254\n",
      "18                        12;13;3601\n",
      "19                        13;12;2737\n",
      "20                        14;134;235\n",
      "21                          15;7;532\n",
      "22                        16;12;5230\n",
      "23                        17;15;5662\n",
      "24                        18;12;4681\n",
      "25                         19;9;7093\n",
      "26                         20;7;2386\n",
      "27                         21;6;2890\n",
      "28                        22;22;6886\n",
      "29                         23;7;2881\n",
      "...                              ...\n",
      "976                       970;6;6265\n",
      "977                       971;5;7354\n",
      "978                      972;14;9001\n",
      "979                       973;6;1792\n",
      "980                        974;2;100\n",
      "981                       975;6;7561\n",
      "982                       976;5;8317\n",
      "983                        977;4;856\n",
      "984                       978;5;6130\n",
      "985                      979;18;5410\n",
      "986                       980;6;6841\n",
      "987                       981;7;3034\n",
      "988                       982;6;6895\n",
      "989                       983;6;2233\n",
      "990                       984;7;6814\n",
      "991                      985;17;4096\n",
      "992                       986;8;4420\n",
      "993                       987;6;5140\n",
      "994                       988;7;8650\n",
      "995                        989;3;676\n",
      "996                       990;6;4708\n",
      "997                      991;18;5572\n",
      "998                       992;7;4483\n",
      "999                       993;5;1387\n",
      "1000                       994;3;892\n",
      "1001                      995;7;4753\n",
      "1002                      996;5;1531\n",
      "1003                      997;6;2206\n",
      "1004                      998;6;7570\n",
      "1005                     999;17;4744\n",
      "\n",
      "[10060 rows x 1 columns]\n"
     ]
    }
   ],
   "source": [
    "extension = 'csv'\n",
    "all_fname = [i for i in glob.glob('*.{}'.format(extension))]\n",
    "print(all_fname)\n",
    "combined_csv = pd.concat([pd.read_csv(f) for f in all_fname])\n",
    "print(combined_csv)"
   ]
  },
  {
   "cell_type": "code",
   "execution_count": 14,
   "metadata": {},
   "outputs": [],
   "source": [
    "combined_csv.to_csv('allLatency.csv', index=False, encoding='utf-8')"
   ]
  },
  {
   "cell_type": "code",
   "execution_count": 13,
   "metadata": {},
   "outputs": [
    {
     "ename": "ValueError",
     "evalue": "Length mismatch: Expected axis has 1 elements, new values have 3 elements",
     "output_type": "error",
     "traceback": [
      "\u001b[0;31m---------------------------------------------------------------------------\u001b[0m",
      "\u001b[0;31mValueError\u001b[0m                                Traceback (most recent call last)",
      "\u001b[0;32m<ipython-input-13-db638f5d3f08>\u001b[0m in \u001b[0;36m<module>\u001b[0;34m\u001b[0m\n\u001b[0;32m----> 1\u001b[0;31m \u001b[0mcombined_csv\u001b[0m\u001b[0;34m.\u001b[0m\u001b[0mcolumns\u001b[0m \u001b[0;34m=\u001b[0m \u001b[0;34m[\u001b[0m\u001b[0;34m'counter'\u001b[0m\u001b[0;34m,\u001b[0m\u001b[0;34m'latencymicrosec'\u001b[0m\u001b[0;34m,\u001b[0m\u001b[0;34m'delaymicrosec'\u001b[0m\u001b[0;34m]\u001b[0m\u001b[0;34m\u001b[0m\u001b[0;34m\u001b[0m\u001b[0m\n\u001b[0m\u001b[1;32m      2\u001b[0m \u001b[0mcombined_csv\u001b[0m\u001b[0;34m.\u001b[0m\u001b[0mhead\u001b[0m\u001b[0;34m(\u001b[0m\u001b[0;36m20\u001b[0m\u001b[0;34m)\u001b[0m\u001b[0;34m\u001b[0m\u001b[0;34m\u001b[0m\u001b[0m\n",
      "\u001b[0;32m/anaconda3/lib/python3.7/site-packages/pandas/core/generic.py\u001b[0m in \u001b[0;36m__setattr__\u001b[0;34m(self, name, value)\u001b[0m\n\u001b[1;32m   4387\u001b[0m         \u001b[0;32mtry\u001b[0m\u001b[0;34m:\u001b[0m\u001b[0;34m\u001b[0m\u001b[0;34m\u001b[0m\u001b[0m\n\u001b[1;32m   4388\u001b[0m             \u001b[0mobject\u001b[0m\u001b[0;34m.\u001b[0m\u001b[0m__getattribute__\u001b[0m\u001b[0;34m(\u001b[0m\u001b[0mself\u001b[0m\u001b[0;34m,\u001b[0m \u001b[0mname\u001b[0m\u001b[0;34m)\u001b[0m\u001b[0;34m\u001b[0m\u001b[0;34m\u001b[0m\u001b[0m\n\u001b[0;32m-> 4389\u001b[0;31m             \u001b[0;32mreturn\u001b[0m \u001b[0mobject\u001b[0m\u001b[0;34m.\u001b[0m\u001b[0m__setattr__\u001b[0m\u001b[0;34m(\u001b[0m\u001b[0mself\u001b[0m\u001b[0;34m,\u001b[0m \u001b[0mname\u001b[0m\u001b[0;34m,\u001b[0m \u001b[0mvalue\u001b[0m\u001b[0;34m)\u001b[0m\u001b[0;34m\u001b[0m\u001b[0;34m\u001b[0m\u001b[0m\n\u001b[0m\u001b[1;32m   4390\u001b[0m         \u001b[0;32mexcept\u001b[0m \u001b[0mAttributeError\u001b[0m\u001b[0;34m:\u001b[0m\u001b[0;34m\u001b[0m\u001b[0;34m\u001b[0m\u001b[0m\n\u001b[1;32m   4391\u001b[0m             \u001b[0;32mpass\u001b[0m\u001b[0;34m\u001b[0m\u001b[0;34m\u001b[0m\u001b[0m\n",
      "\u001b[0;32mpandas/_libs/properties.pyx\u001b[0m in \u001b[0;36mpandas._libs.properties.AxisProperty.__set__\u001b[0;34m()\u001b[0m\n",
      "\u001b[0;32m/anaconda3/lib/python3.7/site-packages/pandas/core/generic.py\u001b[0m in \u001b[0;36m_set_axis\u001b[0;34m(self, axis, labels)\u001b[0m\n\u001b[1;32m    644\u001b[0m \u001b[0;34m\u001b[0m\u001b[0m\n\u001b[1;32m    645\u001b[0m     \u001b[0;32mdef\u001b[0m \u001b[0m_set_axis\u001b[0m\u001b[0;34m(\u001b[0m\u001b[0mself\u001b[0m\u001b[0;34m,\u001b[0m \u001b[0maxis\u001b[0m\u001b[0;34m,\u001b[0m \u001b[0mlabels\u001b[0m\u001b[0;34m)\u001b[0m\u001b[0;34m:\u001b[0m\u001b[0;34m\u001b[0m\u001b[0;34m\u001b[0m\u001b[0m\n\u001b[0;32m--> 646\u001b[0;31m         \u001b[0mself\u001b[0m\u001b[0;34m.\u001b[0m\u001b[0m_data\u001b[0m\u001b[0;34m.\u001b[0m\u001b[0mset_axis\u001b[0m\u001b[0;34m(\u001b[0m\u001b[0maxis\u001b[0m\u001b[0;34m,\u001b[0m \u001b[0mlabels\u001b[0m\u001b[0;34m)\u001b[0m\u001b[0;34m\u001b[0m\u001b[0;34m\u001b[0m\u001b[0m\n\u001b[0m\u001b[1;32m    647\u001b[0m         \u001b[0mself\u001b[0m\u001b[0;34m.\u001b[0m\u001b[0m_clear_item_cache\u001b[0m\u001b[0;34m(\u001b[0m\u001b[0;34m)\u001b[0m\u001b[0;34m\u001b[0m\u001b[0;34m\u001b[0m\u001b[0m\n\u001b[1;32m    648\u001b[0m \u001b[0;34m\u001b[0m\u001b[0m\n",
      "\u001b[0;32m/anaconda3/lib/python3.7/site-packages/pandas/core/internals.py\u001b[0m in \u001b[0;36mset_axis\u001b[0;34m(self, axis, new_labels)\u001b[0m\n\u001b[1;32m   3321\u001b[0m             raise ValueError(\n\u001b[1;32m   3322\u001b[0m                 \u001b[0;34m'Length mismatch: Expected axis has {old} elements, new '\u001b[0m\u001b[0;34m\u001b[0m\u001b[0;34m\u001b[0m\u001b[0m\n\u001b[0;32m-> 3323\u001b[0;31m                 'values have {new} elements'.format(old=old_len, new=new_len))\n\u001b[0m\u001b[1;32m   3324\u001b[0m \u001b[0;34m\u001b[0m\u001b[0m\n\u001b[1;32m   3325\u001b[0m         \u001b[0mself\u001b[0m\u001b[0;34m.\u001b[0m\u001b[0maxes\u001b[0m\u001b[0;34m[\u001b[0m\u001b[0maxis\u001b[0m\u001b[0;34m]\u001b[0m \u001b[0;34m=\u001b[0m \u001b[0mnew_labels\u001b[0m\u001b[0;34m\u001b[0m\u001b[0;34m\u001b[0m\u001b[0m\n",
      "\u001b[0;31mValueError\u001b[0m: Length mismatch: Expected axis has 1 elements, new values have 3 elements"
     ]
    }
   ],
   "source": [
    "combined_csv.columns = ['counter','latencymicrosec','delaymicrosec']\n",
    "combined_csv.head(20)\n"
   ]
  },
  {
   "cell_type": "code",
   "execution_count": null,
   "metadata": {},
   "outputs": [],
   "source": []
  }
 ],
 "metadata": {
  "kernelspec": {
   "display_name": "Python 3",
   "language": "python",
   "name": "python3"
  },
  "language_info": {
   "codemirror_mode": {
    "name": "ipython",
    "version": 3
   },
   "file_extension": ".py",
   "mimetype": "text/x-python",
   "name": "python",
   "nbconvert_exporter": "python",
   "pygments_lexer": "ipython3",
   "version": "3.7.1"
  }
 },
 "nbformat": 4,
 "nbformat_minor": 2
}
